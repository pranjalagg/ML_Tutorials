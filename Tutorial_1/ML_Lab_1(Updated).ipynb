{
  "nbformat": 4,
  "nbformat_minor": 0,
  "metadata": {
    "colab": {
      "name": "ML_Lab-1(Updated).ipynb",
      "provenance": [],
      "collapsed_sections": []
    },
    "kernelspec": {
      "name": "python3",
      "display_name": "Python 3"
    }
  },
  "cells": [
    {
      "cell_type": "markdown",
      "metadata": {
        "id": "2vyVeiXB2Zlp"
      },
      "source": [
        "## Maximum Likelihood Estimation"
      ]
    },
    {
      "cell_type": "code",
      "metadata": {
        "id": "wjBeJIUe-l_Z"
      },
      "source": [
        "import matplotlib.pyplot as plt\r\n",
        "import numpy as np"
      ],
      "execution_count": 77,
      "outputs": []
    },
    {
      "cell_type": "code",
      "metadata": {
        "id": "uoV4oM5O-yvp"
      },
      "source": [
        "mu = 5\r\n",
        "var = 1\r\n",
        "sigma = np.sqrt(var)"
      ],
      "execution_count": 78,
      "outputs": []
    },
    {
      "cell_type": "code",
      "metadata": {
        "id": "VM_sORVh-4Kc"
      },
      "source": [
        "def get_prob_density(point, mean=mu, sig=sigma):\r\n",
        "  return (1 / np.sqrt(sig*2*np.pi) ) * 1/ np.exp( ((point-mean)**2) / (2*(sig**2)))\r\n",
        "\r\n",
        "def probability_func(points, mean):\r\n",
        "  prod = 1\r\n",
        "  for point in points:\r\n",
        "    prod *= get_prob_density(point, mean)\r\n",
        "  return prod\r\n",
        "\r\n",
        "def log_likelihood(likelihood):\r\n",
        "  return np.log(likelihood)"
      ],
      "execution_count": 150,
      "outputs": []
    },
    {
      "cell_type": "code",
      "metadata": {
        "id": "Cd-C_F0jBU5A"
      },
      "source": [
        "points = np.random.normal(mu, sigma, 10)\r\n",
        "points.sort()\r\n",
        "# print(points)"
      ],
      "execution_count": 163,
      "outputs": []
    },
    {
      "cell_type": "markdown",
      "metadata": {
        "id": "1TvHAzQLZ4S3"
      },
      "source": [
        "### Likelihood Function"
      ]
    },
    {
      "cell_type": "code",
      "metadata": {
        "colab": {
          "base_uri": "https://localhost:8080/",
          "height": 265
        },
        "id": "OAhsWgP-_UiU",
        "outputId": "186fc40d-75da-4117-ec95-e8a24907ac75"
      },
      "source": [
        "z = [0.075]*10\r\n",
        "y = get_prob_density(points)\r\n",
        "plt.plot(points, z, 'g.', alpha=0.6)\r\n",
        "plt.plot(points, y, 'bo', linestyle='--', alpha=0.8)\r\n",
        "plt.show()\r\n",
        "# print(y)"
      ],
      "execution_count": 180,
      "outputs": [
        {
          "output_type": "display_data",
          "data": {
            "image/png": "[encoded data removed]",
            "text/plain": [
              "<Figure size 432x288 with 1 Axes>"
            ]
          },
          "metadata": {
            "tags": [],
            "needs_background": "light"
          }
        }
      ]
    },
    {
      "cell_type": "markdown",
      "metadata": {
        "id": "TDlDpc-_aEgm"
      },
      "source": [
        "### Maximum Likelihood Function"
      ]
    },
    {
      "cell_type": "code",
      "metadata": {
        "id": "_XMtwGSfg21z"
      },
      "source": [
        "means = np.linspace(0, 10, 100)\r\n",
        "likelihood = []\r\n",
        "for mean in means:\r\n",
        "  likelihood.append(probability_func(points, mean))"
      ],
      "execution_count": 166,
      "outputs": []
    },
    {
      "cell_type": "code",
      "metadata": {
        "colab": {
          "base_uri": "https://localhost:8080/",
          "height": 276
        },
        "id": "rDzCjj2WrxB9",
        "outputId": "4f5e406d-cdc5-41a4-eac7-3ce86310a894"
      },
      "source": [
        "plt.plot(means, likelihood, 'b.', linestyle='--', alpha=0.7)\r\n",
        "plt.show()"
      ],
      "execution_count": 181,
      "outputs": [
        {
          "output_type": "display_data",
          "data": {
            "image/png": "[encoded data removed]",
            "text/plain": [
              "<Figure size 432x288 with 1 Axes>"
            ]
          },
          "metadata": {
            "tags": [],
            "needs_background": "light"
          }
        }
      ]
    },
    {
      "cell_type": "markdown",
      "metadata": {
        "id": "fsHRsp5naLJf"
      },
      "source": [
        "### Log Likelihood Function"
      ]
    },
    {
      "cell_type": "code",
      "metadata": {
        "colab": {
          "base_uri": "https://localhost:8080/",
          "height": 282
        },
        "id": "5gSSzADCuEj1",
        "outputId": "6a4232e7-b8c6-48ed-c45f-1d2bedb1fb58"
      },
      "source": [
        "logLikelihood = log_likelihood(likelihood)\r\n",
        "plt.plot(means, logLikelihood, color='blue')"
      ],
      "execution_count": 168,
      "outputs": [
        {
          "output_type": "execute_result",
          "data": {
            "text/plain": [
              "[<matplotlib.lines.Line2D at 0x7ff8d3553f98>]"
            ]
          },
          "metadata": {
            "tags": []
          },
          "execution_count": 168
        },
        {
          "output_type": "display_data",
          "data": {
            "image/png": "[encoded data removed]",
            "text/plain": [
              "<Figure size 432x288 with 1 Axes>"
            ]
          },
          "metadata": {
            "tags": [],
            "needs_background": "light"
          }
        }
      ]
    },
    {
      "cell_type": "code",
      "metadata": {
        "id": "aAR_mxODuRNJ"
      },
      "source": [
        ""
      ],
      "execution_count": null,
      "outputs": []
    }
  ]
}