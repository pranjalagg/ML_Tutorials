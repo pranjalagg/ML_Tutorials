{
  "nbformat": 4,
  "nbformat_minor": 0,
  "metadata": {
    "colab": {
      "name": "ML_Lab_2(AC).ipynb",
      "provenance": [],
      "collapsed_sections": []
    },
    "kernelspec": {
      "name": "python3",
      "display_name": "Python 3"
    }
  },
  "cells": [
    {
      "cell_type": "markdown",
      "metadata": {
        "id": "G0jkp-Rx2bYx"
      },
      "source": [
        "## Best Fit Line Using MLE"
      ]
    },
    {
      "cell_type": "code",
      "metadata": {
        "id": "mh_xjIWQeB0N"
      },
      "source": [
        "import matplotlib.pyplot as plt\r\n",
        "import numpy as np"
      ],
      "execution_count": 26,
      "outputs": []
    },
    {
      "cell_type": "code",
      "metadata": {
        "id": "ehhV-QLp409E",
        "colab": {
          "base_uri": "https://localhost:8080/",
          "height": 265
        },
        "outputId": "8eb567ac-0789-460f-c4d7-f4ef86608575"
      },
      "source": [
        "x = np.array([1, 2, 3])\r\n",
        "y = np.array([1.2, 1.9, 3.2])\r\n",
        "plt.plot(x, y, 'bo', alpha=0.8)\r\n",
        "plt.show()"
      ],
      "execution_count": 28,
      "outputs": [
        {
          "output_type": "display_data",
          "data": {
            "image/png": "[encoded data removed]",
            "text/plain": [
              "<Figure size 432x288 with 1 Axes>"
            ]
          },
          "metadata": {
            "tags": [],
            "needs_background": "light"
          }
        }
      ]
    },
    {
      "cell_type": "markdown",
      "metadata": {
        "id": "m-oZGkviYvFU"
      },
      "source": [
        "**Log Likelihood Function:** \\\r\n",
        "> $lnP(t|x, w, \\beta) = -\\frac\\beta 2\\sum\\{y(x,w)-t\\}^2 + \\frac n 2 ln\\beta - \\frac n 2 ln2\\pi$ <br>\r\n",
        "\r\n",
        "**Differentiating w.r.t. w and equating to 0:** \\\r\n",
        "> $\\sum\\{y(x, w) - t\\} = 0$ \\\r\n",
        "\r\n",
        "where, $y(x, w) = w_{1}x + w_{0}$"
      ]
    },
    {
      "cell_type": "code",
      "metadata": {
        "id": "qROeuCMYhnEN"
      },
      "source": [
        "def max_likelihood(x, y):\r\n",
        "  sum_x = x.sum()\r\n",
        "  sum_y = y.sum()\r\n",
        "  sum_xy = x.dot(y.T)\r\n",
        "  sum_xx = x.dot(x.T)\r\n",
        "  n = len(x)\r\n",
        "  \r\n",
        "  w1 = (sum_y*sum_x - sum_xy*n)/(sum_x*sum_x - n*sum_xx)\r\n",
        "  w0 = (sum_xy - w1*sum_xx)/sum_x\r\n",
        "  return w1, w0"
      ],
      "execution_count": 50,
      "outputs": []
    },
    {
      "cell_type": "code",
      "metadata": {
        "colab": {
          "base_uri": "https://localhost:8080/"
        },
        "id": "2s0bglZzZDYr",
        "outputId": "378ea015-4bcd-4766-f472-d3a2f485f8e3"
      },
      "source": [
        "m, c = max_likelihood(x, y)\r\n",
        "print(m, c)"
      ],
      "execution_count": 51,
      "outputs": [
        {
          "output_type": "stream",
          "text": [
            "1.000000000000001 0.09999999999999758\n"
          ],
          "name": "stdout"
        }
      ]
    },
    {
      "cell_type": "code",
      "metadata": {
        "id": "Q1jx-oWp1-EK"
      },
      "source": [
        "y_hat = []\r\n",
        "for i in range(len(x)):\r\n",
        "  y_hat.append(m*x[i] + c)"
      ],
      "execution_count": 54,
      "outputs": []
    },
    {
      "cell_type": "markdown",
      "metadata": {
        "id": "-9SFy-V-YWrX"
      },
      "source": [
        "### Plotting Line"
      ]
    },
    {
      "cell_type": "code",
      "metadata": {
        "colab": {
          "base_uri": "https://localhost:8080/",
          "height": 265
        },
        "id": "l7MEwpelaVtT",
        "outputId": "bdc55a43-ce76-49ae-db6a-60eb45b27de1"
      },
      "source": [
        "plt.plot(x, y_hat)\r\n",
        "plt.plot(x, y, 'ro', alpha=0.6)\r\n",
        "plt.show()"
      ],
      "execution_count": 59,
      "outputs": [
        {
          "output_type": "display_data",
          "data": {
            "image/png": "[encoded data removed]",
            "text/plain": [
              "<Figure size 432x288 with 1 Axes>"
            ]
          },
          "metadata": {
            "tags": [],
            "needs_background": "light"
          }
        }
      ]
    },
    {
      "cell_type": "code",
      "metadata": {
        "id": "DIb2MMApaevg"
      },
      "source": [
        ""
      ],
      "execution_count": null,
      "outputs": []
    }
  ]
}